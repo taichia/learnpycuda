{
 "cells": [
  {
   "cell_type": "markdown",
   "metadata": {},
   "source": [
    "Trying to learn how to use PyCUDA...\n",
    "\n",
    "Gonna start off with comparing serial vs parrallized mandelbrot."
   ]
  },
  {
   "cell_type": "code",
   "execution_count": 10,
   "metadata": {},
   "outputs": [
    {
     "name": "stdout",
     "output_type": "stream",
     "text": [
      "[[ 2.45485    -1.1485823   0.7697816  -0.6936119 ]\n",
      " [-0.6890353  -0.8065086   0.05871063  0.05045864]\n",
      " [ 0.5774545   1.1132321  -0.18662958 -0.5588438 ]\n",
      " [ 0.03573484  1.6901095  -3.0229142   0.11931873]]\n",
      "[[ 2.45485    -1.1485823   0.7697816  -0.6936119 ]\n",
      " [-0.6890353  -0.8065086   0.05871063  0.05045864]\n",
      " [ 0.5774545   1.1132321  -0.18662958 -0.5588438 ]\n",
      " [ 0.03573484  1.6901095  -3.0229142   0.11931873]]\n"
     ]
    }
   ],
   "source": [
    "# Used example code online to just get the libraries working, Windows PATH variables are annoying...\n",
    "\n",
    "import pycuda.driver as cuda\n",
    "import pycuda.autoinit\n",
    "from pycuda.compiler import SourceModule\n",
    "\n",
    "import numpy\n",
    "a = numpy.random.randn(4,4)\n",
    "a = a.astype(numpy.float32)\n",
    "a_gpu = cuda.mem_alloc(a.nbytes)\n",
    "cuda.memcpy_htod(a_gpu, a)\n",
    "mod = SourceModule(\"\"\"\n",
    "  __global__ void doublify(float *a)\n",
    "  {\n",
    "    int idx = threadIdx.x + threadIdx.y*4;\n",
    "    a[idx] *= 2;\n",
    "  }\n",
    "  \"\"\")\n",
    "\n",
    "a_doubled = numpy.empty_like(a)\n",
    "cuda.memcpy_dtoh(a_doubled, a_gpu)\n",
    "print(a_doubled)\n",
    "print(a)"
   ]
  },
  {
   "cell_type": "code",
   "execution_count": null,
   "metadata": {},
   "outputs": [],
   "source": []
  }
 ],
 "metadata": {
  "kernelspec": {
   "display_name": "Python 3",
   "language": "python",
   "name": "python3"
  },
  "language_info": {
   "codemirror_mode": {
    "name": "ipython",
    "version": 3
   },
   "file_extension": ".py",
   "mimetype": "text/x-python",
   "name": "python",
   "nbconvert_exporter": "python",
   "pygments_lexer": "ipython3",
   "version": "3.7.1"
  }
 },
 "nbformat": 4,
 "nbformat_minor": 2
}
